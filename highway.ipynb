{
 "cells": [
  {
   "cell_type": "code",
   "execution_count": 1,
   "metadata": {
    "collapsed": true,
    "pycharm": {
     "name": "#%%\n"
    }
   },
   "outputs": [],
   "source": [
    "import osmium\n",
    "from shapely import wkt\n",
    "import geopandas\n",
    "from shapely.geometry import Point, LineString, Polygon\n",
    "\n",
    "wktfab = osmium.geom.WKTFactory()\n",
    "\n",
    "\n",
    "class HighwayHandler(osmium.SimpleHandler):\n",
    "    highways = [\"motorway\", \"trunk\", \"primary\", \"secondary\", \"tertiary\"]\n",
    "    highways_with_level = dict(zip(highways, [1, 2, 3, 4, 5]))\n",
    "\n",
    "    def __init__(self):\n",
    "        osmium.SimpleHandler.__init__(self)\n",
    "        self.road_names = []\n",
    "        self.highways = {'id': [],'way_name': [], 'way_geometry': [], 'highway': [], 'way_level': []}\n",
    "\n",
    "    def get_ways(self, w):\n",
    "        way_id = w.id\n",
    "        name = w.tags.get(\"name\") if w.tags.get(\"name\") else \"UNKNOWN\"\n",
    "        highway = w.tags.get(\"highway\")\n",
    "        if highway in HighwayHandler.highways:\n",
    "            line = wkt.loads(wktfab.create_linestring(w))\n",
    "            self.append_way_attribute(way_id, name, line, highway, self.get_way_level(highway))\n",
    "\n",
    "    def way(self, w):\n",
    "        self.get_ways(w)\n",
    "\n",
    "    def get_way_level(self, highway_tag: str) -> int:\n",
    "        return HighwayHandler.highways_with_level.get(highway_tag)\n",
    "\n",
    "    def append_way_attribute(self, way_id: str, name: str, line: LineString, highway: str, level: int):\n",
    "        self.highways.get('id').append(way_id)\n",
    "        self.highways.get('way_name').append(name)\n",
    "        self.highways.get('way_geometry').append(line)\n",
    "        self.highways.get('highway').append(highway)\n",
    "        self.highways.get('way_level').append(level)\n"
   ]
  },
  {
   "cell_type": "code",
   "execution_count": 2,
   "outputs": [],
   "source": [
    "h = HighwayHandler()\n",
    "h.apply_file(\"taiwan-latest.osm.pbf\", locations=True, idx=\"flex_mem\")\n",
    "result = geopandas.GeoDataFrame(h.highways, geometry=\"way_geometry\")\n"
   ],
   "metadata": {
    "collapsed": false,
    "pycharm": {
     "name": "#%%\n"
    }
   }
  },
  {
   "cell_type": "code",
   "execution_count": 93,
   "outputs": [
    {
     "name": "stdout",
     "output_type": "stream",
     "text": [
      "LINESTRING (121.5141978 25.0535468, 121.5141678 25.0534056, 121.5140542 25.0528585, 121.5139815 25.052315, 121.5138746 25.051712, 121.513851 25.0515788, 121.513833 25.0515182, 121.5137505 25.051241, 121.5135594 25.0506192, 121.5134602 25.0502835, 121.5132735 25.049556)\n",
      "LINESTRING (121.5142974 25.0540658, 121.514277 25.0539528, 121.5141978 25.0535468)\n",
      "LINESTRING (121.5144167 25.0540344, 121.5144376 25.054136)\n",
      "LINESTRING (121.5132751 25.0473215, 121.5132706 25.047186)\n",
      "LINESTRING (121.5143339 25.0536428, 121.5143968 25.0539509, 121.5144167 25.0540344)\n",
      "LINESTRING (121.5132521 25.0493427, 121.5132626 25.0491793, 121.513276 25.0483457, 121.5132796 25.0482732)\n",
      "LINESTRING (121.5133763 25.0482755, 121.5133771 25.0483412, 121.5133872 25.0491736, 121.513375 25.0493059)\n",
      "LINESTRING (121.5133588 25.0495362, 121.513559 25.0501188, 121.5136827 25.0504786, 121.5137217 25.0506178, 121.5138527 25.0510841, 121.5139645 25.0515021, 121.5139798 25.0515594)\n",
      "LINESTRING (121.5132796 25.0482732, 121.5132828 25.0481891, 121.5132842 25.0480735, 121.5132869 25.0479828, 121.5132818 25.0476976, 121.5132775 25.0474558, 121.5132751 25.0473215)\n",
      "LINESTRING (121.5139798 25.0515594, 121.514 25.0516913, 121.5141117 25.0524222, 121.5141449 25.0526391, 121.5141706 25.0528073, 121.5142124 25.0530055, 121.5142857 25.053405, 121.5143339 25.0536428)\n",
      "LINESTRING (121.5132735 25.049556, 121.5132513 25.0494613, 121.5132521 25.0493427)\n",
      "LINESTRING (121.513375 25.0493059, 121.5133644 25.0494352, 121.5133588 25.0495362)\n",
      "MULTILINESTRING ((121.5142974 25.0540658, 121.514277 25.0539528, 121.5141978 25.0535468, 121.5141678 25.0534056, 121.5140542 25.0528585, 121.5139815 25.052315, 121.5138746 25.051712, 121.513851 25.0515788, 121.513833 25.0515182, 121.5137505 25.051241, 121.5135594 25.0506192, 121.5134602 25.0502835, 121.5132735 25.049556, 121.5132513 25.0494613, 121.5132521 25.0493427, 121.5132626 25.0491793, 121.513276 25.0483457, 121.5132796 25.0482732, 121.5132828 25.0481891, 121.5132842 25.0480735, 121.5132869 25.0479828, 121.5132818 25.0476976, 121.5132775 25.0474558, 121.5132751 25.0473215, 121.5132706 25.047186), (121.5133763 25.0482755, 121.5133771 25.0483412, 121.5133872 25.0491736, 121.513375 25.0493059, 121.5133644 25.0494352, 121.5133588 25.0495362, 121.513559 25.0501188, 121.5136827 25.0504786, 121.5137217 25.0506178, 121.5138527 25.0510841, 121.5139645 25.0515021, 121.5139798 25.0515594, 121.514 25.0516913, 121.5141117 25.0524222, 121.5141449 25.0526391, 121.5141706 25.0528073, 121.5142124 25.0530055, 121.5142857 25.053405, 121.5143339 25.0536428, 121.5143968 25.0539509, 121.5144167 25.0540344, 121.5144376 25.054136))\n"
     ]
    }
   ],
   "source": [
    "from shapely.ops import linemerge\n",
    "ways = result.loc[result.way_name == \"重慶北路一段\",\"way_geometry\"].values\n",
    "for i in ways:\n",
    "    print(i.wkt)\n",
    "# line1 = ways[0]\n",
    "# line2 = ways[1]\n",
    "line_merge = linemerge(ways).wkt\n",
    "print(line_merge)\n",
    "\n"
   ],
   "metadata": {
    "collapsed": false,
    "pycharm": {
     "name": "#%%\n"
    }
   }
  },
  {
   "cell_type": "code",
   "execution_count": null,
   "outputs": [],
   "source": [],
   "metadata": {
    "collapsed": false,
    "pycharm": {
     "name": "#%%\n"
    }
   }
  }
 ],
 "metadata": {
  "kernelspec": {
   "display_name": "Python 3",
   "language": "python",
   "name": "python3"
  },
  "language_info": {
   "codemirror_mode": {
    "name": "ipython",
    "version": 2
   },
   "file_extension": ".py",
   "mimetype": "text/x-python",
   "name": "python",
   "nbconvert_exporter": "python",
   "pygments_lexer": "ipython2",
   "version": "2.7.6"
  }
 },
 "nbformat": 4,
 "nbformat_minor": 0
}